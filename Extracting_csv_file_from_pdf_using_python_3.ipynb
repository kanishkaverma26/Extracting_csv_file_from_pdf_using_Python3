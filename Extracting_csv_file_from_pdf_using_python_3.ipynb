{
  "nbformat": 4,
  "nbformat_minor": 0,
  "metadata": {
    "colab": {
      "name": "Extracting_csv_file_from_pdf_using_python_3.ipynb",
      "provenance": [],
      "collapsed_sections": [],
      "authorship_tag": "ABX9TyPFjY7fTxHcv/W8CanT1wQ9",
      "include_colab_link": true
    },
    "kernelspec": {
      "name": "python3",
      "display_name": "Python 3"
    },
    "language_info": {
      "name": "python"
    }
  },
  "cells": [
    {
      "cell_type": "markdown",
      "metadata": {
        "id": "view-in-github",
        "colab_type": "text"
      },
      "source": [
        "<a href=\"https://colab.research.google.com/github/kanishkaverma26/Extracting_csv_file_from_pdf_using_Python3/blob/main/Extracting_csv_file_from_pdf_using_python_3.ipynb\" target=\"_parent\"><img src=\"https://colab.research.google.com/assets/colab-badge.svg\" alt=\"Open In Colab\"/></a>"
      ]
    },
    {
      "cell_type": "code",
      "metadata": {
        "colab": {
          "base_uri": "https://localhost:8080/"
        },
        "id": "8ucc-bdYftnk",
        "outputId": "c3c10af3-f326-4d6e-ac66-f5619a4bd132"
      },
      "source": [
        "!pip install tabula-py"
      ],
      "execution_count": 3,
      "outputs": [
        {
          "output_type": "stream",
          "text": [
            "Requirement already satisfied: tabula-py in /usr/local/lib/python3.7/dist-packages (2.2.0)\n",
            "Requirement already satisfied: distro in /usr/local/lib/python3.7/dist-packages (from tabula-py) (1.6.0)\n",
            "Requirement already satisfied: numpy in /usr/local/lib/python3.7/dist-packages (from tabula-py) (1.19.5)\n",
            "Requirement already satisfied: pandas>=0.25.3 in /usr/local/lib/python3.7/dist-packages (from tabula-py) (1.1.5)\n",
            "Requirement already satisfied: pytz>=2017.2 in /usr/local/lib/python3.7/dist-packages (from pandas>=0.25.3->tabula-py) (2018.9)\n",
            "Requirement already satisfied: python-dateutil>=2.7.3 in /usr/local/lib/python3.7/dist-packages (from pandas>=0.25.3->tabula-py) (2.8.1)\n",
            "Requirement already satisfied: six>=1.5 in /usr/local/lib/python3.7/dist-packages (from python-dateutil>=2.7.3->pandas>=0.25.3->tabula-py) (1.15.0)\n"
          ],
          "name": "stdout"
        }
      ]
    },
    {
      "cell_type": "code",
      "metadata": {
        "id": "Gq4pAoVYf1b9"
      },
      "source": [
        "import tabula\n",
        "from tabula import read_pdf\n",
        "from tabulate import tabulate\n",
        "import pandas as pd\n",
        "df = read_pdf(\"100100502_AES01267KY_ORG_Financial-Statement_2020.pdf\", encoding = 'ISO-8859-1',\n",
        "         stream=True, pages = 5, guess = True)[0]\n",
        "df.to_csv('Profit_And_Loss.csv', index=True)"
      ],
      "execution_count": 8,
      "outputs": []
    },
    {
      "cell_type": "code",
      "metadata": {
        "id": "ofvOkQnWqo94",
        "colab": {
          "base_uri": "https://localhost:8080/"
        },
        "outputId": "6964821c-a217-4181-be15-3d55277021e6"
      },
      "source": [
        "tabula.convert_into(\"100100502_AES01267KY_ORG_Financial-Statement_2020.pdf\", \"Profit_And_Loss.csv\", output_format=\"csv\", pages='5')\n",
        "print(df)"
      ],
      "execution_count": 9,
      "outputs": [
        {
          "output_type": "stream",
          "text": [
            "                                          PArtICuLArs  ...     Year ended.1\n",
            "0                                                 NaN  ...  31st March 2019\n",
            "1                                              InCoMe  ...              NaN\n",
            "2                             Revenue from Operations  ...        14,235.02\n",
            "3                                        Other Income  ...           133.52\n",
            "4                                        total Income  ...        14,368.54\n",
            "5                                            exPenses  ...              NaN\n",
            "6                      Cost of Raw Materials Consumed  ...         9,465.64\n",
            "7                         Purchases of Stock-in Trade  ...           159.88\n",
            "8   Changes in Inventories of Finished Goods, Work...  ...         (765.04)\n",
            "9                           Employee Benefits Expense  ...           636.79\n",
            "10                                      Finance Costs  ...            90.75\n",
            "11              Depreciation and Amortisation expense  ...           212.49\n",
            "12                                     Other Expenses  ...         2,376.33\n",
            "13                                     total expenses  ...        12,176.84\n",
            "14                                  Profit Before tax  ...         2,191.70\n",
            "15                                       tax expenses  ...              NaN\n",
            "16                                        Current Tax  ...           618.77\n",
            "17                                       Deferred Tax  ...           151.10\n",
            "18                                  total tax expense  ...           769.87\n",
            "19  Profit for the year Before share of Loss of As...  ...         1,421.83\n",
            "20                Less : Share of (Loss) of Associate  ...           (8.84)\n",
            "21                                Profit for the Year  ...         1,412.99\n",
            "22                other Comprehensive Income / (Loss)  ...              NaN\n",
            "23  Items that will not be reclassified to profit ...  ...              NaN\n",
            "24        Remeasurements of the defined benefit plans  ...           (6.70)\n",
            "25  Income Tax relating to items that will not be ...  ...             2.34\n",
            "26                          Share of OCI in associate  ...                -\n",
            "27                                                NaN  ...           (5.36)\n",
            "28     Items that will reclassified to profit or loss  ...              NaN\n",
            "29  Exchange differences in translating the financ...  ...                -\n",
            "30                                                NaN  ...                -\n",
            "31  other Comprehensive Income/(Loss) for the Year...  ...           (4.36)\n",
            "32            total Comprehensive Income for the Year  ...         1,408.63\n",
            "33               Profit for the Year Attributable to:  ...              NaN\n",
            "34                              Owners of the Company  ...         1,431.99\n",
            "35                           Non-controlling interest  ...          (19.00)\n",
            "36                                                NaN  ...         1,412.99\n",
            "37  other Comprehensive Income/(Loss) for the Year...  ...              NaN\n",
            "38                              Owners of the Company  ...           (4.36)\n",
            "39                           Non-controlling interest  ...                -\n",
            "40                                                NaN  ...           (4.36)\n",
            "41  total Comprehensive Income for the Year Attrib...  ...              NaN\n",
            "42                              Owners of the Company  ...         1,427.63\n",
            "43                           Non-controlling interest  ...          (19.00)\n",
            "44                                                NaN  ...         1,408.63\n",
            "45      Earnings per equity share (Face value of ` 2)  ...              NaN\n",
            "46                                       Basic (in `)  ...            11.56\n",
            "47                                     Diluted (in `)  ...            11.54\n",
            "\n",
            "[48 rows x 4 columns]\n"
          ],
          "name": "stdout"
        }
      ]
    },
    {
      "cell_type": "code",
      "metadata": {
        "id": "t_L7gs7MJlBK",
        "colab": {
          "base_uri": "https://localhost:8080/"
        },
        "outputId": "90f538aa-cff4-467d-f4c0-e9a495a68b20"
      },
      "source": [
        "df = read_pdf(\"100100502_AES01267KY_ORG_Financial-Statement_2020.pdf\", encoding = 'ISO-8859-1',\n",
        "         stream=True, pages = 4, guess = True)[0]\n",
        "df.to_csv('Balanced_Sheet.csv', index=True)\n",
        "print(df)"
      ],
      "execution_count": 10,
      "outputs": [
        {
          "output_type": "stream",
          "text": [
            "                      Particulars  notes             As at           As at.1\n",
            "0                             NaN    NaN  31st March, 2020  31st March, 2019\n",
            "1                          Assets    NaN               NaN               NaN\n",
            "2          non - Current Assets :    NaN               NaN               NaN\n",
            "3   Property, Plant and Equipment    2.0          6,376.38          6,056.63\n",
            "4        Capital Work-in-progress    NaN             68.58            255.10\n",
            "..                            ...    ...               ...               ...\n",
            "56                     Provisions   28.0                 -             10.13\n",
            "57   Income Tax Liabilities (Net)   29.0             95.94              0.02\n",
            "58      total Current Liabilities    NaN          4,945.13          4,107.49\n",
            "59              total Liabilities    NaN          5,328.48          4,683.72\n",
            "60   total equity and Liabilities    NaN         14,695.47         12,986.58\n",
            "\n",
            "[61 rows x 4 columns]\n"
          ],
          "name": "stdout"
        }
      ]
    },
    {
      "cell_type": "code",
      "metadata": {
        "id": "3t7NK3_VL9tz"
      },
      "source": [
        ""
      ],
      "execution_count": 10,
      "outputs": []
    }
  ]
}